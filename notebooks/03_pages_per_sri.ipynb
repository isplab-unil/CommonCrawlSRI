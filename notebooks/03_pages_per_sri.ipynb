{
 "cells": [
  {
   "cell_type": "markdown",
   "metadata": {},
   "source": [
    "# 03 SRI per Page"
   ]
  },
  {
   "cell_type": "code",
   "execution_count": 1,
   "metadata": {},
   "outputs": [
    {
     "name": "stdout",
     "output_type": "stream",
     "text": [
      "Welcome to\n",
      "      ____              __\n",
      "     / __/__  ___ _____/ /__\n",
      "    _\\ \\/ _ \\/ _ `/ __/  '_/\n",
      "   /__ / .__/\\_,_/_/ /_/\\_\\   version 2.4.3\n",
      "      /_/\n",
      "\n",
      "Using Python version 3.7.3 (default, Mar 27 2019 09:23:15)\n",
      "SparkSession available as 'spark'.\n"
     ]
    }
   ],
   "source": [
    "import re\n",
    "from glob import iglob\n",
    "import pandas as pd\n",
    "import matplotlib.pyplot as plt\n",
    "from pyspark.shell import sqlContext"
   ]
  },
  {
   "cell_type": "markdown",
   "metadata": {},
   "source": [
    "## Load the data"
   ]
  },
  {
   "cell_type": "code",
   "execution_count": 2,
   "metadata": {},
   "outputs": [],
   "source": [
    "def loadData(file):\n",
    "    data = sqlContext.read.parquet(file).toPandas()\n",
    "    data['percentage'] = data['number'] / data['number'].sum() * 100\n",
    "    data = data.set_index('sri')\n",
    "    return data"
   ]
  },
  {
   "cell_type": "code",
   "execution_count": 3,
   "metadata": {},
   "outputs": [],
   "source": [
    "dataMixed = loadData('../data/sri/2019-09/reports/03_page_per_sri/')\n",
    "dataLink = loadData('../data/sri/2019-09/reports/03_page_per_sri_link/')\n",
    "dataScript = loadData('../data/sri/2019-09/reports/03_page_per_sri_script/')"
   ]
  },
  {
   "cell_type": "markdown",
   "metadata": {},
   "source": [
    "## Plot the data"
   ]
  },
  {
   "cell_type": "code",
   "execution_count": 4,
   "metadata": {},
   "outputs": [
    {
     "data": {
      "image/png": "[encoded data removed]",
      "text/plain": [
       "<Figure size 432x288 with 1 Axes>"
      ]
     },
     "metadata": {
      "needs_background": "light"
     },
     "output_type": "display_data"
    }
   ],
   "source": [
    "fig, ax = plt.subplots(1, 1)\n",
    "\n",
    "ax.spines['top'].set_visible(False)\n",
    "ax.spines['right'].set_visible(False)\n",
    "ax.yaxis.grid()\n",
    "\n",
    "ax.bar(dataLink.index-0.33, dataLink['percentage'], 0.27, label='link')\n",
    "ax.bar(dataScript.index, dataScript['percentage'], 0.27, label='script')\n",
    "ax.bar(dataMixed.index+0.33, dataMixed['percentage'], 0.27, label='any tag')\n",
    "\n",
    "ax.plot(dataLink.index-0.33, dataLink['percentage'].cumsum(), label=\"\")\n",
    "ax.plot(dataScript.index, dataScript['percentage'].cumsum(), label=\"\")\n",
    "ax.plot(dataMixed.index+0.33, dataMixed['percentage'].cumsum(), label=\"\")\n",
    "\n",
    "ax.set_yticklabels(['{:,.0%}'.format(x / 100) for x in ax.get_yticks()])\n",
    "\n",
    "plt.xlim(0,10)\n",
    "plt.xlabel('SRI')\n",
    "plt.ylabel('Webpages')\n",
    "\n",
    "plt.legend(loc='lower right')\n",
    "plt.xticks(dataMixed.index[:10])\n",
    "\n",
    "plt.savefig('03_sri_per_page.pdf', bbox_inches='tight')"
   ]
  },
  {
   "cell_type": "code",
   "execution_count": 15,
   "metadata": {},
   "outputs": [],
   "source": [
    "out = open(\"03_pages_per_sri.tex\", 'w')\n",
    "    \n",
    "out.write(\"\\def\\\\CCOneSriPerWebpageN{\\\\num{\" + (\"%0.2f\" % dataMixed['number'][1]) + \"}}\\n\")\n",
    "out.write(\"\\def\\\\CCOneSriPerWebpageP{\\\\num{\" + (\"%0.2f\" % dataMixed['percentage'][1]) + \"}\\%}\\n\")\n",
    "out.write(\"\\def\\\\CCTwoSriPerWebpageN{\\\\num{\" + (\"%0.2f\" % dataMixed['number'][2]) + \"}}\\n\")\n",
    "out.write(\"\\def\\\\CCTwoSriPerWebpageP{\\\\num{\" + (\"%0.2f\" % dataMixed['percentage'][2]) + \"}\\%}\\n\")\n",
    "out.write(\"\\def\\\\CCOneLinkSriPerWebpageN{\\\\num{\" + (\"%0.2f\" % dataLink['number'][1]) + \"}}\\n\")\n",
    "out.write(\"\\def\\\\CCOneLinkSriPerWebpageP{\\\\num{\" + (\"%0.2f\" % dataLink['percentage'][1]) + \"}\\%}\\n\")\n",
    "\n",
    "\n",
    "out.close()"
   ]
  },
  {
   "cell_type": "code",
   "execution_count": 10,
   "metadata": {},
   "outputs": [
    {
     "data": {
      "text/plain": [
       "36637513"
      ]
     },
     "execution_count": 10,
     "metadata": {},
     "output_type": "execute_result"
    }
   ],
   "source": [
    "dataMixed['number'][1]"
   ]
  },
  {
   "cell_type": "code",
   "execution_count": null,
   "metadata": {},
   "outputs": [],
   "source": [
    "da"
   ]
  }
 ],
 "metadata": {
  "kernelspec": {
   "display_name": "Python 3",
   "language": "python",
   "name": "python3"
  },
  "language_info": {
   "codemirror_mode": {
    "name": "ipython",
    "version": 3
   },
   "file_extension": ".py",
   "mimetype": "text/x-python",
   "name": "python",
   "nbconvert_exporter": "python",
   "pygments_lexer": "ipython3",
   "version": "3.7.3"
  }
 },
 "nbformat": 4,
 "nbformat_minor": 2
}
