{
 "cells": [
  {
   "cell_type": "markdown",
   "metadata": {},
   "source": [
    "# 01 Pages per protocol"
   ]
  },
  {
   "cell_type": "code",
   "execution_count": 1,
   "metadata": {},
   "outputs": [
    {
     "name": "stdout",
     "output_type": "stream",
     "text": [
      "Welcome to\n",
      "      ____              __\n",
      "     / __/__  ___ _____/ /__\n",
      "    _\\ \\/ _ \\/ _ `/ __/  '_/\n",
      "   /__ / .__/\\_,_/_/ /_/\\_\\   version 2.4.4\n",
      "      /_/\n",
      "\n",
      "Using Python version 3.7.4 (default, Sep  7 2019 18:27:02)\n",
      "SparkSession available as 'spark'.\n"
     ]
    }
   ],
   "source": [
    "import re\n",
    "import datetime\n",
    "from glob import iglob\n",
    "import pandas as pd\n",
    "import matplotlib.pyplot as plt\n",
    "from pyspark.shell import sqlContext"
   ]
  },
  {
   "cell_type": "markdown",
   "metadata": {},
   "source": [
    "## Load the data"
   ]
  },
  {
   "cell_type": "code",
   "execution_count": 2,
   "metadata": {},
   "outputs": [],
   "source": [
    "def loadData(path):\n",
    "    frames = []\n",
    "    for file in iglob(path, recursive=True):\n",
    "        crawl = re.findall(r'/(\\d{4}-\\d{2})/', file)\n",
    "        date = datetime.datetime.strptime(crawl[0] + \"-1\", \"%Y-%W-%w\")\n",
    "        frame = sqlContext.read.parquet(file).toPandas()\n",
    "        frame['date'] = date\n",
    "        frames.append(frame)\n",
    "    data = pd.concat(frames, ignore_index=True).set_index('date').sort_index()\n",
    "    return data.loc[data['protocol'] == 'https']\n",
    "    \n",
    "data = loadData('../data/sri/*/reports/01_pages_per_protocol/')\n",
    "top1m = loadData('../data/sri/*/reports/01_pages_per_protocol_top1m/')\n",
    "top1k = loadData('../data/sri/*/reports/01_pages_per_protocol_top1k/')"
   ]
  },
  {
   "cell_type": "markdown",
   "metadata": {},
   "source": [
    "## Display the data"
   ]
  },
  {
   "cell_type": "code",
   "execution_count": 3,
   "metadata": {},
   "outputs": [
    {
     "data": {
      "text/html": [
       "<div>\n",
       "<style scoped>\n",
       "    .dataframe tbody tr th:only-of-type {\n",
       "        vertical-align: middle;\n",
       "    }\n",
       "\n",
       "    .dataframe tbody tr th {\n",
       "        vertical-align: top;\n",
       "    }\n",
       "\n",
       "    .dataframe thead th {\n",
       "        text-align: right;\n",
       "    }\n",
       "</style>\n",
       "<table border=\"1\" class=\"dataframe\">\n",
       "  <thead>\n",
       "    <tr style=\"text-align: right;\">\n",
       "      <th></th>\n",
       "      <th>protocol</th>\n",
       "      <th>number</th>\n",
       "      <th>total</th>\n",
       "      <th>percentage</th>\n",
       "    </tr>\n",
       "    <tr>\n",
       "      <th>date</th>\n",
       "      <th></th>\n",
       "      <th></th>\n",
       "      <th></th>\n",
       "      <th></th>\n",
       "    </tr>\n",
       "  </thead>\n",
       "  <tbody>\n",
       "    <tr>\n",
       "      <th>2016-05-02</th>\n",
       "      <td>https</td>\n",
       "      <td>127605935</td>\n",
       "      <td>1337194450</td>\n",
       "      <td>9.54</td>\n",
       "    </tr>\n",
       "    <tr>\n",
       "      <th>2017-02-27</th>\n",
       "      <td>https</td>\n",
       "      <td>737722125</td>\n",
       "      <td>3084165319</td>\n",
       "      <td>23.92</td>\n",
       "    </tr>\n",
       "    <tr>\n",
       "      <th>2017-08-21</th>\n",
       "      <td>https</td>\n",
       "      <td>779988216</td>\n",
       "      <td>3280080910</td>\n",
       "      <td>23.78</td>\n",
       "    </tr>\n",
       "    <tr>\n",
       "      <th>2018-02-26</th>\n",
       "      <td>https</td>\n",
       "      <td>982101726</td>\n",
       "      <td>3488463319</td>\n",
       "      <td>28.15</td>\n",
       "    </tr>\n",
       "    <tr>\n",
       "      <th>2018-08-20</th>\n",
       "      <td>https</td>\n",
       "      <td>1058539043</td>\n",
       "      <td>2686323358</td>\n",
       "      <td>39.40</td>\n",
       "    </tr>\n",
       "    <tr>\n",
       "      <th>2019-03-04</th>\n",
       "      <td>https</td>\n",
       "      <td>1395619439</td>\n",
       "      <td>2913733422</td>\n",
       "      <td>47.90</td>\n",
       "    </tr>\n",
       "    <tr>\n",
       "      <th>2019-09-02</th>\n",
       "      <td>https</td>\n",
       "      <td>1738143610</td>\n",
       "      <td>2954836069</td>\n",
       "      <td>58.82</td>\n",
       "    </tr>\n",
       "  </tbody>\n",
       "</table>\n",
       "</div>"
      ],
      "text/plain": [
       "           protocol      number       total  percentage\n",
       "date                                                   \n",
       "2016-05-02    https   127605935  1337194450        9.54\n",
       "2017-02-27    https   737722125  3084165319       23.92\n",
       "2017-08-21    https   779988216  3280080910       23.78\n",
       "2018-02-26    https   982101726  3488463319       28.15\n",
       "2018-08-20    https  1058539043  2686323358       39.40\n",
       "2019-03-04    https  1395619439  2913733422       47.90\n",
       "2019-09-02    https  1738143610  2954836069       58.82"
      ]
     },
     "execution_count": 3,
     "metadata": {},
     "output_type": "execute_result"
    }
   ],
   "source": [
    "data"
   ]
  },
  {
   "cell_type": "markdown",
   "metadata": {},
   "source": [
    "## Plot the data"
   ]
  },
  {
   "cell_type": "markdown",
   "metadata": {},
   "source": [
    "### Chrome HTTP warning release date\n",
    "\n",
    "```\n",
    "Release: 2018-07-24\n",
    "Version: 68.0.3440\n",
    "Warning: HTTP sites marked as \"not secure\".\n",
    "Source: https://en.wikipedia.org/wiki/Google_Chrome_version_history\n",
    "```"
   ]
  },
  {
   "cell_type": "markdown",
   "metadata": {},
   "source": [
    "### Firefox HTTP warning release date\n",
    "\n",
    "```\n",
    "Release: 2017-03-07\n",
    "Version: 52\n",
    "Source: https://en.wikipedia.org/wiki/Firefox_version_history\n",
    "```"
   ]
  },
  {
   "cell_type": "markdown",
   "metadata": {},
   "source": [
    "### Safari HTTP warning release date\n",
    "\n",
    "```\n",
    "Release: 2018-07-09\n",
    "Version: 11.1.2\n",
    "Source: https://en.wikipedia.org/wiki/Safari_version_history\n",
    "```"
   ]
  },
  {
   "cell_type": "markdown",
   "metadata": {},
   "source": [
    "### Let's encrypt release date\n",
    "\n",
    "```\n",
    "Launch: 2016-04-12\n",
    "Source: https://en.wikipedia.org/wiki/Let%27s_Encrypt\n",
    "```"
   ]
  },
  {
   "cell_type": "markdown",
   "metadata": {},
   "source": [
    "### ACME\n",
    "```\n",
    "v1 launch: April 12, 2016\n",
    "v2 launch: March 13, 2018\n",
    "Source: \n",
    "```"
   ]
  },
  {
   "cell_type": "code",
   "execution_count": 6,
   "metadata": {},
   "outputs": [
    {
     "data": {
      "image/png": "[encoded data removed]",
      "text/plain": [
       "<Figure size 432x288 with 1 Axes>"
      ]
     },
     "metadata": {
      "needs_background": "light"
     },
     "output_type": "display_data"
    }
   ],
   "source": [
    "ax = data['percentage'].plot(legend=\"True\", style='o-')\n",
    "\n",
    "top1m['percentage'].plot(legend=\"True\", style='o-')\n",
    "top1k['percentage'].plot(legend=\"True\", style='o-')\n",
    "\n",
    "plt.legend([\"commoncrawl\", \"top1m\", \"top1k\"], loc='upper left')\n",
    "\n",
    "plt.xticks(rotation=45)\n",
    "plt.xlim(datetime.date(2016, 3, 1), datetime.date(2019, 10, 1))\n",
    "plt.ylim(0, 100)\n",
    "plt.xlabel('Time')\n",
    "plt.ylabel('Webpages')\n",
    "\n",
    "ax.set_yticklabels(['{:,.0%}'.format(x / 100) for x in ax.get_yticks()])\n",
    "\n",
    "ax.spines['top'].set_visible(False)\n",
    "ax.spines['right'].set_visible(False)\n",
    "ax.yaxis.grid()\n",
    "\n",
    "# Let's encrypt ACME v1\n",
    "acmev1 = datetime.date(2016, 4, 12)\n",
    "plt.text(acmev1 + datetime.timedelta(days=5), 40, \"Let's Encrypt\")\n",
    "plt.text(acmev1 + datetime.timedelta(days=5), 32, \"ACME v1\")\n",
    "plt.axvline(x=acmev1, color='k', linestyle='--', linewidth=1)\n",
    "\n",
    "## Firefox 52\n",
    "plt.text(datetime.date(2017, 3, 7) + datetime.timedelta(days=5), 8, \"Firefox 52\")\n",
    "plt.axvline(x=datetime.date(2017, 3, 7), color='k', linestyle='--', linewidth=1)\n",
    "\n",
    "# ACME v2\n",
    "acmev2 = datetime.date(2018, 3, 13)\n",
    "plt.text(acmev2 + datetime.timedelta(days=5), 48, \"ACME v2\")\n",
    "plt.axvline(x=acmev2, color='k', linestyle='--', linewidth=1)\n",
    "\n",
    "## Safari 11.1.2\n",
    "plt.text(datetime.date(2018, 7, 9) + datetime.timedelta(days=5), 8, \"Safari 11.1.2\")\n",
    "plt.axvline(x=datetime.date(2018, 7, 9), color='k', linestyle='--', linewidth=1)\n",
    "\n",
    "## Chrome 68\n",
    "plt.text(datetime.date(2018, 7, 24) + datetime.timedelta(days=5), 24, \"Chrome 68\")\n",
    "plt.axvline(x=datetime.date(2018, 7, 24), color='k', linestyle='--', linewidth=1)\n",
    "\n",
    "## Edge does not provide specific warning\n",
    "\n",
    "plt.savefig('01_pages_per_protocol.pdf', bbox_inches = 'tight')"
   ]
  },
  {
   "cell_type": "code",
   "execution_count": 5,
   "metadata": {},
   "outputs": [],
   "source": [
    "out = open(\"01_pages_per_protocol.tex\", 'w')\n",
    "    \n",
    "lastCrawl = data.reset_index()[-1:]\n",
    "\n",
    "out.write(\"\\def\\\\CCUrlN{\\\\num{\" + (\"%0.2f\" % lastCrawl['total']) + \"}}\\n\")\n",
    "out.write(\"\\def\\\\CCUrlHttpsN{\\\\num{\" + (\"%0.2f\" % lastCrawl['number']) + \"}}\\n\")\n",
    "out.write(\"\\def\\\\CCUrlHttpsP{\\\\num{\" + (\"%0.2f\" % lastCrawl['percentage']) + \"}\\%}\\n\")\n",
    "\n",
    "out.close()\n"
   ]
  },
  {
   "cell_type": "code",
   "execution_count": null,
   "metadata": {},
   "outputs": [],
   "source": []
  }
 ],
 "metadata": {
  "kernelspec": {
   "display_name": "Python 3",
   "language": "python",
   "name": "python3"
  },
  "language_info": {
   "codemirror_mode": {
    "name": "ipython",
    "version": 3
   },
   "file_extension": ".py",
   "mimetype": "text/x-python",
   "name": "python",
   "nbconvert_exporter": "python",
   "pygments_lexer": "ipython3",
   "version": "3.7.4"
  }
 },
 "nbformat": 4,
 "nbformat_minor": 2
}
