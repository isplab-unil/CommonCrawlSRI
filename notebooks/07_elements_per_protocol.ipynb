{
 "cells": [
  {
   "cell_type": "markdown",
   "metadata": {},
   "source": [
    "# 07 Elements per protocol"
   ]
  },
  {
   "cell_type": "code",
   "execution_count": 1,
   "metadata": {},
   "outputs": [
    {
     "name": "stdout",
     "output_type": "stream",
     "text": [
      "Welcome to\n",
      "      ____              __\n",
      "     / __/__  ___ _____/ /__\n",
      "    _\\ \\/ _ \\/ _ `/ __/  '_/\n",
      "   /__ / .__/\\_,_/_/ /_/\\_\\   version 2.4.3\n",
      "      /_/\n",
      "\n",
      "Using Python version 3.7.3 (default, Mar 27 2019 09:23:15)\n",
      "SparkSession available as 'spark'.\n"
     ]
    }
   ],
   "source": [
    "import re\n",
    "from glob import iglob\n",
    "import pandas as pd\n",
    "import matplotlib.pyplot as plt\n",
    "from IPython.display import display, Math\n",
    "from pyspark.shell import sqlContext"
   ]
  },
  {
   "cell_type": "markdown",
   "metadata": {},
   "source": [
    "## Load the CSV files"
   ]
  },
  {
   "cell_type": "code",
   "execution_count": 2,
   "metadata": {},
   "outputs": [],
   "source": [
    "data = sqlContext.read.parquet('../data/sri/2019-09/reports/07_elements_per_protocol/').toPandas().reindex()"
   ]
  },
  {
   "cell_type": "markdown",
   "metadata": {},
   "source": [
    "## Display the data"
   ]
  },
  {
   "cell_type": "code",
   "execution_count": 3,
   "metadata": {},
   "outputs": [],
   "source": [
    "data = data[\n",
    "    (data['_1'] == ('http', 'http', 'l')) | \n",
    "    (data['_1'] == ('http', 'http', 'r')) |\n",
    "    (data['_1'] == ('http', 'https', 'l')) |\n",
    "    (data['_1'] == ('http', 'https', 'r')) |\n",
    "    (data['_1'] == ('https', 'http', 'l')) |\n",
    "    (data['_1'] == ('https', 'http', 'r')) |\n",
    "    (data['_1'] == ('https', 'https', 'l')) |\n",
    "    (data['_1'] == ('https', 'https', 'r'))\n",
    "].sort_values(by='_1').reset_index()"
   ]
  },
  {
   "cell_type": "code",
   "execution_count": 4,
   "metadata": {},
   "outputs": [],
   "source": [
    "ccTotal = data['_2'].sum()\n",
    "\n",
    "ccHttpHttpLocal = data['_2'][0]\n",
    "ccHttpHttpRemote = data['_2'][1]\n",
    "ccHttpHttpsLocal = data['_2'][2]\n",
    "ccHttpHttpsRemote = data['_2'][3]\n",
    "ccHttpsHttpLocal = data['_2'][4]\n",
    "ccHttpsHttpRemote = data['_2'][5]\n",
    "ccHttpsHttpsLocal = data['_2'][6]\n",
    "ccHttpsHttpsRemote = data['_2'][7]\n",
    "ccHttpHttp = ccHttpHttpLocal + ccHttpHttpRemote\n",
    "ccHttpHttps = ccHttpHttpsLocal + ccHttpHttpsRemote\n",
    "ccHttpsHttp = ccHttpsHttpLocal + ccHttpsHttpRemote\n",
    "ccHttpsHttps = ccHttpsHttpsLocal + ccHttpsHttpsRemote\n",
    "ccHttp = ccHttpHttp + ccHttpHttps\n",
    "ccHttps = ccHttpsHttp + ccHttpsHttps"
   ]
  },
  {
   "cell_type": "code",
   "execution_count": 27,
   "metadata": {},
   "outputs": [],
   "source": [
    "out = open(\"07_elements_per_protocol.tex\", 'w')\n",
    "\n",
    "def print_latex(name, var):\n",
    "    out.write(\"\\def\\\\\" + name + \"{\\\\num{\" + (\"%0.2f\" % var) + \"}\\%}\\n\")\n",
    "\n",
    "print_latex('CCTreeHttpHttpLocal', ccHttpHttpLocal / ccTotal * 100)\n",
    "print_latex('CCTreeHttpHttpRemote', ccHttpHttpRemote / ccTotal * 100)\n",
    "print_latex('CCTreeHttpHttpsLocal', ccHttpHttpsLocal / ccTotal * 100)\n",
    "print_latex('CCTreeHttpHttpsRemote', ccHttpHttpsRemote / ccTotal * 100)\n",
    "print_latex('CCTreeHttpsHttpLocal', ccHttpsHttpLocal / ccTotal * 100)\n",
    "print_latex('CCTreeHttpsHttpRemote', ccHttpsHttpRemote / ccTotal * 100)\n",
    "print_latex('CCTreeHttpsHttpsLocal', ccHttpsHttpsLocal / ccTotal * 100)\n",
    "print_latex('CCTreeHttpsHttpsRemote', ccHttpsHttpsRemote / ccTotal * 100)\n",
    "print_latex('CCTreeHttpHttp', ccHttpHttp / ccTotal * 100)\n",
    "print_latex('CCTreeHttpHttps', ccHttpHttps / ccTotal * 100)\n",
    "print_latex('CCTreeHttpsHttp', ccHttpsHttp / ccTotal * 100)\n",
    "print_latex('CCTreeHttpsHttps', ccHttpsHttps / ccTotal * 100)\n",
    "print_latex('CCTreeHttp', ccHttp / ccTotal * 100)\n",
    "print_latex('CCTreeHttps', ccHttps / ccTotal * 100)\n",
    "print_latex('CCTreeHttpHttpLocalRel', ccHttpHttpLocal / ccHttpHttp * 100)\n",
    "print_latex('CCTreeHttpHttpRemoteRel', ccHttpHttpRemote / ccHttpHttp * 100)\n",
    "print_latex('CCTreeHttpHttpsLocalRel', ccHttpHttpsLocal / ccHttpHttps * 100)\n",
    "print_latex('CCTreeHttpHttpsRemoteRel', ccHttpHttpsRemote / ccHttpHttps * 100)\n",
    "print_latex('CCTreeHttpsHttpLocalRel', ccHttpsHttpLocal / ccHttpsHttp * 100)\n",
    "print_latex('CCTreeHttpsHttpRemoteRel', ccHttpsHttpRemote / ccHttpsHttp * 100)\n",
    "print_latex('CCTreeHttpsHttpsLocalRel', ccHttpsHttpsLocal / ccHttpsHttps * 100)\n",
    "print_latex('CCTreeHttpsHttpsRemoteRel', ccHttpsHttpsRemote / ccHttpsHttps * 100)\n",
    "print_latex('CCTreeHttpHttpRel', ccHttpHttp / ccHttp * 100)\n",
    "print_latex('CCTreeHttpHttpsRel', ccHttpHttps / ccHttp * 100)\n",
    "print_latex('CCTreeHttpsHttpRel', ccHttpsHttp / ccHttps * 100)\n",
    "print_latex('CCTreeHttpsHttpsRel', ccHttpsHttps / ccHttps * 100)\n",
    "print_latex('CCTreeHttpRel', ccHttp / ccTotal * 100)\n",
    "print_latex('CCTreeHttpsRel', ccHttps / ccTotal * 100)\n",
    "print_latex('CCTreeTotal', 100)\n",
    "\n",
    "out.close()\n"
   ]
  },
  {
   "cell_type": "code",
   "execution_count": null,
   "metadata": {},
   "outputs": [],
   "source": []
  },
  {
   "cell_type": "code",
   "execution_count": null,
   "metadata": {},
   "outputs": [],
   "source": []
  }
 ],
 "metadata": {
  "kernelspec": {
   "display_name": "Python 3",
   "language": "python",
   "name": "python3"
  },
  "language_info": {
   "codemirror_mode": {
    "name": "ipython",
    "version": 3
   },
   "file_extension": ".py",
   "mimetype": "text/x-python",
   "name": "python",
   "nbconvert_exporter": "python",
   "pygments_lexer": "ipython3",
   "version": "3.7.3"
  }
 },
 "nbformat": 4,
 "nbformat_minor": 2
}
