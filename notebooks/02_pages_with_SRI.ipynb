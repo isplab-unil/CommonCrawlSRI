{
 "cells": [
  {
   "cell_type": "markdown",
   "metadata": {},
   "source": [
    "# 02 Pages with SRI"
   ]
  },
  {
   "cell_type": "code",
   "execution_count": 1,
   "metadata": {},
   "outputs": [
    {
     "name": "stdout",
     "output_type": "stream",
     "text": [
      "Welcome to\n",
      "      ____              __\n",
      "     / __/__  ___ _____/ /__\n",
      "    _\\ \\/ _ \\/ _ `/ __/  '_/\n",
      "   /__ / .__/\\_,_/_/ /_/\\_\\   version 2.4.3\n",
      "      /_/\n",
      "\n",
      "Using Python version 3.7.3 (default, Mar 27 2019 09:23:15)\n",
      "SparkSession available as 'spark'.\n"
     ]
    }
   ],
   "source": [
    "import re\n",
    "import datetime\n",
    "from glob import iglob\n",
    "import pandas as pd\n",
    "import matplotlib.pyplot as plt\n",
    "from pyspark.shell import sqlContext"
   ]
  },
  {
   "cell_type": "markdown",
   "metadata": {},
   "source": [
    "## Load the data"
   ]
  },
  {
   "cell_type": "code",
   "execution_count": 2,
   "metadata": {},
   "outputs": [],
   "source": [
    "def loadData(path):\n",
    "    frames = []\n",
    "    for file in iglob(path, recursive=True):\n",
    "        crawl = re.findall(r'/(\\d{4}-\\d{2})/', file)\n",
    "        date = datetime.datetime.strptime(crawl[0] + \"-1\", \"%Y-%W-%w\")\n",
    "        frame = sqlContext.read.parquet(file).toPandas()\n",
    "        frame['date'] = date\n",
    "        frames.append(frame)\n",
    "    return pd.concat(frames, ignore_index=True).set_index('date').sort_index()"
   ]
  },
  {
   "cell_type": "code",
   "execution_count": 3,
   "metadata": {},
   "outputs": [],
   "source": [
    "data = loadData('../data/sri/*/reports/02_pages_with_sri/')\n",
    "script = loadData('../data/sri/*/reports/02_pages_with_sri_script/')\n",
    "link = loadData('../data/sri/*/reports/02_pages_with_sri_link/')\n",
    "top1m = loadData('../data/sri/*/reports/02_pages_with_sri_top1m/')\n",
    "top1k = loadData('../data/sri/*/reports/02_pages_with_sri_top1k/')"
   ]
  },
  {
   "cell_type": "code",
   "execution_count": 4,
   "metadata": {},
   "outputs": [
    {
     "data": {
      "text/html": [
       "<div>\n",
       "<style scoped>\n",
       "    .dataframe tbody tr th:only-of-type {\n",
       "        vertical-align: middle;\n",
       "    }\n",
       "\n",
       "    .dataframe tbody tr th {\n",
       "        vertical-align: top;\n",
       "    }\n",
       "\n",
       "    .dataframe thead th {\n",
       "        text-align: right;\n",
       "    }\n",
       "</style>\n",
       "<table border=\"1\" class=\"dataframe\">\n",
       "  <thead>\n",
       "    <tr style=\"text-align: right;\">\n",
       "      <th></th>\n",
       "      <th>number</th>\n",
       "      <th>total</th>\n",
       "      <th>percentage</th>\n",
       "    </tr>\n",
       "    <tr>\n",
       "      <th>date</th>\n",
       "      <th></th>\n",
       "      <th></th>\n",
       "      <th></th>\n",
       "    </tr>\n",
       "  </thead>\n",
       "  <tbody>\n",
       "    <tr>\n",
       "      <th>2016-05-02</th>\n",
       "      <td>1185678</td>\n",
       "      <td>1337194450</td>\n",
       "      <td>0.09</td>\n",
       "    </tr>\n",
       "    <tr>\n",
       "      <th>2017-02-27</th>\n",
       "      <td>20774415</td>\n",
       "      <td>3084165319</td>\n",
       "      <td>0.67</td>\n",
       "    </tr>\n",
       "    <tr>\n",
       "      <th>2017-08-21</th>\n",
       "      <td>24854789</td>\n",
       "      <td>3280080910</td>\n",
       "      <td>0.76</td>\n",
       "    </tr>\n",
       "    <tr>\n",
       "      <th>2018-02-26</th>\n",
       "      <td>38565498</td>\n",
       "      <td>3488463319</td>\n",
       "      <td>1.11</td>\n",
       "    </tr>\n",
       "    <tr>\n",
       "      <th>2018-08-20</th>\n",
       "      <td>56356748</td>\n",
       "      <td>2686323358</td>\n",
       "      <td>2.10</td>\n",
       "    </tr>\n",
       "    <tr>\n",
       "      <th>2019-03-04</th>\n",
       "      <td>74357335</td>\n",
       "      <td>2913733422</td>\n",
       "      <td>2.55</td>\n",
       "    </tr>\n",
       "  </tbody>\n",
       "</table>\n",
       "</div>"
      ],
      "text/plain": [
       "              number       total  percentage\n",
       "date                                        \n",
       "2016-05-02   1185678  1337194450        0.09\n",
       "2017-02-27  20774415  3084165319        0.67\n",
       "2017-08-21  24854789  3280080910        0.76\n",
       "2018-02-26  38565498  3488463319        1.11\n",
       "2018-08-20  56356748  2686323358        2.10\n",
       "2019-03-04  74357335  2913733422        2.55"
      ]
     },
     "execution_count": 4,
     "metadata": {},
     "output_type": "execute_result"
    }
   ],
   "source": [
    "data"
   ]
  },
  {
   "cell_type": "markdown",
   "metadata": {},
   "source": [
    "## Plot the data"
   ]
  },
  {
   "cell_type": "markdown",
   "metadata": {},
   "source": [
    "### SRI release\n",
    "\n",
    "23 June 2016\n",
    "\n",
    "https://www.w3.org/TR/SRI/"
   ]
  },
  {
   "cell_type": "code",
   "execution_count": 4,
   "metadata": {},
   "outputs": [
    {
     "name": "stderr",
     "output_type": "stream",
     "text": [
      "/usr/local/lib/python3.7/site-packages/pandas/plotting/_converter.py:129: FutureWarning: Using an implicitly registered datetime converter for a matplotlib plotting method. The converter was registered by pandas on import. Future versions of pandas will require you to explicitly register matplotlib converters.\n",
      "\n",
      "To register the converters:\n",
      "\t>>> from pandas.plotting import register_matplotlib_converters\n",
      "\t>>> register_matplotlib_converters()\n",
      "  warnings.warn(msg, FutureWarning)\n"
     ]
    },
    {
     "data": {
      "image/png": "[encoded data removed]",
      "text/plain": [
       "<Figure size 432x288 with 1 Axes>"
      ]
     },
     "metadata": {
      "needs_background": "light"
     },
     "output_type": "display_data"
    }
   ],
   "source": [
    "plot, ax = plt.subplots(1, 1)\n",
    "\n",
    "ax.spines['top'].set_visible(False)\n",
    "ax.spines['right'].set_visible(False)\n",
    "ax.yaxis.grid()\n",
    "\n",
    "plt.plot(top1k.index, top1k['percentage'], label='any tag (top1k)', marker='o', linestyle='--')\n",
    "plt.plot(top1m.index, top1m['percentage'], label='any tag (top1m)', marker='o', linestyle='--')\n",
    "\n",
    "plt.plot(data.index, data['percentage'], label='any tag (commoncrawl)', marker='o')\n",
    "plt.plot(script.index, script['percentage'], label='script (commoncrawl)', marker='o')\n",
    "plt.plot(link.index, link['percentage'], label='link (commoncrawl)', marker='o')\n",
    "\n",
    "plt.text(datetime.date(2016, 6, 23) + datetime.timedelta(days=10), 2.32, \"SRI W3C Specification\")\n",
    "plt.axvline(x=datetime.date(2016, 6, 23), color='k', linestyle='--', linewidth=1)\n",
    "\n",
    "ax.set_yticklabels(['{:,.0%}'.format(x / 100) for x in ax.get_yticks()])\n",
    "\n",
    "plt.xticks(rotation=45)\n",
    "plt.xlabel('Time')\n",
    "plt.xlim(datetime.date(2016, 3, 1), datetime.date(2019, 3, 20))\n",
    "plt.ylabel('Webpages')\n",
    "plt.legend(loc='upper left')\n",
    "plt.savefig('02_pages_with_sri.pdf', bbox_inches = 'tight')"
   ]
  },
  {
   "cell_type": "code",
   "execution_count": 5,
   "metadata": {},
   "outputs": [],
   "source": [
    "out = open(\"02_pages_with_sri.tex\", 'w')\n",
    "    \n",
    "lastCrawl = data.reset_index()[-1:]\n",
    "out.write(\"\\def\\\\CCUrlSriN{\\\\num{\" + (\"%0.2f\" % lastCrawl['number']) + \"}}\\n\")\n",
    "out.write(\"\\def\\\\CCUrlSriP{\\\\num{\" + (\"%0.2f\" % lastCrawl['percentage']) + \"}\\%}\\n\")\n",
    "\n",
    "out.close()\n"
   ]
  },
  {
   "cell_type": "code",
   "execution_count": null,
   "metadata": {},
   "outputs": [],
   "source": []
  }
 ],
 "metadata": {
  "kernelspec": {
   "display_name": "Python 3",
   "language": "python",
   "name": "python3"
  },
  "language_info": {
   "codemirror_mode": {
    "name": "ipython",
    "version": 3
   },
   "file_extension": ".py",
   "mimetype": "text/x-python",
   "name": "python",
   "nbconvert_exporter": "python",
   "pygments_lexer": "ipython3",
   "version": "3.7.3"
  }
 },
 "nbformat": 4,
 "nbformat_minor": 2
}
