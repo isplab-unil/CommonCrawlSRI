{
 "cells": [
  {
   "cell_type": "code",
   "execution_count": 6,
   "metadata": {},
   "outputs": [],
   "source": [
    "import csv\n",
    "\n",
    "def convertEmailsToQualtrics(theFile, newFile):\n",
    "    newfile = open(newFile, 'w')\n",
    "    newfile_writer = csv.writer(newfile,delimiter=',', quotechar='\"', quoting=csv.QUOTE_MINIMAL)\n",
    "    newfile_writer.writerow(['FirstName','LastName','PrimaryEmail','ExternalDataReference','EmbeddedDataA'])\n",
    "    \n",
    "    with open(theFile, 'r') as file:\n",
    "        for line in file:\n",
    "            newfile_writer.writerow(['','',line,'',''])                    \n",
    "    \n",
    "    newfile.close()\n",
    "    \n",
    "convertEmailsToQualtrics('npm_emails_uniq.txt', 'npm.csv')\n",
    "convertEmailsToQualtrics('wp_emails_uniq.txt', 'wp.csv')"
   ]
  },
  {
   "cell_type": "code",
   "execution_count": 9,
   "metadata": {},
   "outputs": [],
   "source": [
    "import csv\n",
    "\n",
    "def convertCCEmailsToQualtrics(theFile, newFile):\n",
    "    newfile = open(newFile, 'w')\n",
    "    newfile_writer = csv.writer(newfile,delimiter=',', quotechar='\"', quoting=csv.QUOTE_MINIMAL)\n",
    "    newfile_writer.writerow(['FirstName','LastName','PrimaryEmail','ExternalDataReference','EmbeddedDataA'])\n",
    "    \n",
    "    with open(theFile, 'r') as file:\n",
    "        file_reader = csv.reader(file, delimiter=',')\n",
    "        for row in file_reader:\n",
    "            newfile_writer.writerow(['','',row[1],row[0],''])                    \n",
    "    \n",
    "    newfile.close()\n",
    " \n",
    "convertCCEmailsToQualtrics('shuffled_participants_with_sri_1000.csv', 'cc_sri_qualtrics.csv')\n",
    "convertCCEmailsToQualtrics('shuffled_participants_without_sri_1000.csv', 'cc_without_sri_qualtrics.csv')"
   ]
  },
  {
   "cell_type": "code",
   "execution_count": null,
   "metadata": {},
   "outputs": [],
   "source": []
  }
 ],
 "metadata": {
  "kernelspec": {
   "display_name": "Python 3",
   "language": "python",
   "name": "python3"
  },
  "language_info": {
   "codemirror_mode": {
    "name": "ipython",
    "version": 3
   },
   "file_extension": ".py",
   "mimetype": "text/x-python",
   "name": "python",
   "nbconvert_exporter": "python",
   "pygments_lexer": "ipython3",
   "version": "3.7.3"
  }
 },
 "nbformat": 4,
 "nbformat_minor": 4
}
